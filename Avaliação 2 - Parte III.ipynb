{
 "cells": [
  {
   "cell_type": "code",
   "execution_count": 31,
   "metadata": {},
   "outputs": [],
   "source": [
    "import pandas as pd\n",
    "import numpy as np\n",
    "from sklearn.cross_validation import cross_val_score\n",
    "from sklearn.metrics import  accuracy_score\n",
    "from sklearn.metrics import average_precision_score\n",
    "from sklearn.metrics import recall_score\n",
    "from sklearn.metrics import mean_squared_error\n",
    "from sklearn.metrics import confusion_matrix"
   ]
  },
  {
   "cell_type": "code",
   "execution_count": 32,
   "metadata": {},
   "outputs": [],
   "source": [
    "fertilidade_df = pd.read_csv('fertility.csv')"
   ]
  },
  {
   "cell_type": "code",
   "execution_count": 33,
   "metadata": {},
   "outputs": [
    {
     "data": {
      "text/html": [
       "<div>\n",
       "<style scoped>\n",
       "    .dataframe tbody tr th:only-of-type {\n",
       "        vertical-align: middle;\n",
       "    }\n",
       "\n",
       "    .dataframe tbody tr th {\n",
       "        vertical-align: top;\n",
       "    }\n",
       "\n",
       "    .dataframe thead th {\n",
       "        text-align: right;\n",
       "    }\n",
       "</style>\n",
       "<table border=\"1\" class=\"dataframe\">\n",
       "  <thead>\n",
       "    <tr style=\"text-align: right;\">\n",
       "      <th></th>\n",
       "      <th>season</th>\n",
       "      <th>age</th>\n",
       "      <th>childish_diseases</th>\n",
       "      <th>accident</th>\n",
       "      <th>surgical</th>\n",
       "      <th>high_fevers</th>\n",
       "      <th>frequency_alcohol</th>\n",
       "      <th>smoking_habit</th>\n",
       "      <th>hours_sitting</th>\n",
       "      <th>diagnosis</th>\n",
       "    </tr>\n",
       "  </thead>\n",
       "  <tbody>\n",
       "    <tr>\n",
       "      <th>0</th>\n",
       "      <td>-0.33</td>\n",
       "      <td>0.69</td>\n",
       "      <td>0</td>\n",
       "      <td>1</td>\n",
       "      <td>1</td>\n",
       "      <td>0</td>\n",
       "      <td>0.8</td>\n",
       "      <td>0</td>\n",
       "      <td>0.88</td>\n",
       "      <td>N</td>\n",
       "    </tr>\n",
       "    <tr>\n",
       "      <th>1</th>\n",
       "      <td>-0.33</td>\n",
       "      <td>0.94</td>\n",
       "      <td>1</td>\n",
       "      <td>0</td>\n",
       "      <td>1</td>\n",
       "      <td>0</td>\n",
       "      <td>0.8</td>\n",
       "      <td>1</td>\n",
       "      <td>0.31</td>\n",
       "      <td>O</td>\n",
       "    </tr>\n",
       "    <tr>\n",
       "      <th>2</th>\n",
       "      <td>-0.33</td>\n",
       "      <td>0.50</td>\n",
       "      <td>1</td>\n",
       "      <td>0</td>\n",
       "      <td>0</td>\n",
       "      <td>0</td>\n",
       "      <td>1.0</td>\n",
       "      <td>-1</td>\n",
       "      <td>0.50</td>\n",
       "      <td>N</td>\n",
       "    </tr>\n",
       "    <tr>\n",
       "      <th>3</th>\n",
       "      <td>-0.33</td>\n",
       "      <td>0.75</td>\n",
       "      <td>0</td>\n",
       "      <td>1</td>\n",
       "      <td>1</td>\n",
       "      <td>0</td>\n",
       "      <td>1.0</td>\n",
       "      <td>-1</td>\n",
       "      <td>0.38</td>\n",
       "      <td>N</td>\n",
       "    </tr>\n",
       "    <tr>\n",
       "      <th>4</th>\n",
       "      <td>-0.33</td>\n",
       "      <td>0.67</td>\n",
       "      <td>1</td>\n",
       "      <td>1</td>\n",
       "      <td>0</td>\n",
       "      <td>0</td>\n",
       "      <td>0.8</td>\n",
       "      <td>-1</td>\n",
       "      <td>0.50</td>\n",
       "      <td>O</td>\n",
       "    </tr>\n",
       "  </tbody>\n",
       "</table>\n",
       "</div>"
      ],
      "text/plain": [
       "   season   age  childish_diseases  accident  surgical  high_fevers  \\\n",
       "0   -0.33  0.69                  0         1         1            0   \n",
       "1   -0.33  0.94                  1         0         1            0   \n",
       "2   -0.33  0.50                  1         0         0            0   \n",
       "3   -0.33  0.75                  0         1         1            0   \n",
       "4   -0.33  0.67                  1         1         0            0   \n",
       "\n",
       "   frequency_alcohol  smoking_habit  hours_sitting diagnosis  \n",
       "0                0.8              0           0.88         N  \n",
       "1                0.8              1           0.31         O  \n",
       "2                1.0             -1           0.50         N  \n",
       "3                1.0             -1           0.38         N  \n",
       "4                0.8             -1           0.50         O  "
      ]
     },
     "execution_count": 33,
     "metadata": {},
     "output_type": "execute_result"
    }
   ],
   "source": [
    "fertilidade_df.head(5)"
   ]
  },
  {
   "cell_type": "code",
   "execution_count": 34,
   "metadata": {},
   "outputs": [],
   "source": [
    "fertilidade_df['diagnosis'] = fertilidade_df['diagnosis'].map( {'N' : 1, 'O': 0}).astype(int)"
   ]
  },
  {
   "cell_type": "code",
   "execution_count": 35,
   "metadata": {},
   "outputs": [
    {
     "data": {
      "text/html": [
       "<div>\n",
       "<style scoped>\n",
       "    .dataframe tbody tr th:only-of-type {\n",
       "        vertical-align: middle;\n",
       "    }\n",
       "\n",
       "    .dataframe tbody tr th {\n",
       "        vertical-align: top;\n",
       "    }\n",
       "\n",
       "    .dataframe thead th {\n",
       "        text-align: right;\n",
       "    }\n",
       "</style>\n",
       "<table border=\"1\" class=\"dataframe\">\n",
       "  <thead>\n",
       "    <tr style=\"text-align: right;\">\n",
       "      <th></th>\n",
       "      <th>season</th>\n",
       "      <th>age</th>\n",
       "      <th>childish_diseases</th>\n",
       "      <th>accident</th>\n",
       "      <th>surgical</th>\n",
       "      <th>high_fevers</th>\n",
       "      <th>frequency_alcohol</th>\n",
       "      <th>smoking_habit</th>\n",
       "      <th>hours_sitting</th>\n",
       "      <th>diagnosis</th>\n",
       "    </tr>\n",
       "  </thead>\n",
       "  <tbody>\n",
       "    <tr>\n",
       "      <th>0</th>\n",
       "      <td>-0.33</td>\n",
       "      <td>0.69</td>\n",
       "      <td>0</td>\n",
       "      <td>1</td>\n",
       "      <td>1</td>\n",
       "      <td>0</td>\n",
       "      <td>0.8</td>\n",
       "      <td>0</td>\n",
       "      <td>0.88</td>\n",
       "      <td>1</td>\n",
       "    </tr>\n",
       "    <tr>\n",
       "      <th>1</th>\n",
       "      <td>-0.33</td>\n",
       "      <td>0.94</td>\n",
       "      <td>1</td>\n",
       "      <td>0</td>\n",
       "      <td>1</td>\n",
       "      <td>0</td>\n",
       "      <td>0.8</td>\n",
       "      <td>1</td>\n",
       "      <td>0.31</td>\n",
       "      <td>0</td>\n",
       "    </tr>\n",
       "    <tr>\n",
       "      <th>2</th>\n",
       "      <td>-0.33</td>\n",
       "      <td>0.50</td>\n",
       "      <td>1</td>\n",
       "      <td>0</td>\n",
       "      <td>0</td>\n",
       "      <td>0</td>\n",
       "      <td>1.0</td>\n",
       "      <td>-1</td>\n",
       "      <td>0.50</td>\n",
       "      <td>1</td>\n",
       "    </tr>\n",
       "    <tr>\n",
       "      <th>3</th>\n",
       "      <td>-0.33</td>\n",
       "      <td>0.75</td>\n",
       "      <td>0</td>\n",
       "      <td>1</td>\n",
       "      <td>1</td>\n",
       "      <td>0</td>\n",
       "      <td>1.0</td>\n",
       "      <td>-1</td>\n",
       "      <td>0.38</td>\n",
       "      <td>1</td>\n",
       "    </tr>\n",
       "    <tr>\n",
       "      <th>4</th>\n",
       "      <td>-0.33</td>\n",
       "      <td>0.67</td>\n",
       "      <td>1</td>\n",
       "      <td>1</td>\n",
       "      <td>0</td>\n",
       "      <td>0</td>\n",
       "      <td>0.8</td>\n",
       "      <td>-1</td>\n",
       "      <td>0.50</td>\n",
       "      <td>0</td>\n",
       "    </tr>\n",
       "  </tbody>\n",
       "</table>\n",
       "</div>"
      ],
      "text/plain": [
       "   season   age  childish_diseases  accident  surgical  high_fevers  \\\n",
       "0   -0.33  0.69                  0         1         1            0   \n",
       "1   -0.33  0.94                  1         0         1            0   \n",
       "2   -0.33  0.50                  1         0         0            0   \n",
       "3   -0.33  0.75                  0         1         1            0   \n",
       "4   -0.33  0.67                  1         1         0            0   \n",
       "\n",
       "   frequency_alcohol  smoking_habit  hours_sitting  diagnosis  \n",
       "0                0.8              0           0.88          1  \n",
       "1                0.8              1           0.31          0  \n",
       "2                1.0             -1           0.50          1  \n",
       "3                1.0             -1           0.38          1  \n",
       "4                0.8             -1           0.50          0  "
      ]
     },
     "execution_count": 35,
     "metadata": {},
     "output_type": "execute_result"
    }
   ],
   "source": [
    "fertilidade_df.head(5)"
   ]
  },
  {
   "cell_type": "code",
   "execution_count": 36,
   "metadata": {},
   "outputs": [],
   "source": [
    "X_df = fertilidade_df[['season','age','childish_diseases','accident','surgical','high_fevers','frequency_alcohol','smoking_habit','hours_sitting']]"
   ]
  },
  {
   "cell_type": "code",
   "execution_count": 37,
   "metadata": {},
   "outputs": [],
   "source": [
    "Y_df = fertilidade_df['diagnosis']"
   ]
  },
  {
   "cell_type": "code",
   "execution_count": 38,
   "metadata": {},
   "outputs": [],
   "source": [
    "Xdummies_df = pd.get_dummies(X_df)"
   ]
  },
  {
   "cell_type": "code",
   "execution_count": 39,
   "metadata": {},
   "outputs": [],
   "source": [
    "X = Xdummies_df.values"
   ]
  },
  {
   "cell_type": "code",
   "execution_count": 40,
   "metadata": {},
   "outputs": [],
   "source": [
    "Y = Y_df.values"
   ]
  },
  {
   "cell_type": "code",
   "execution_count": 41,
   "metadata": {},
   "outputs": [],
   "source": [
    "porcentagem_treino = 0.90\n",
    "tamanho_treino = int(porcentagem_treino * len(Y))\n",
    "tamanho_validacao = len(Y) - tamanho_treino\n",
    "treino_dados = X[:tamanho_treino]\n",
    "treino_marcacoes = Y[:tamanho_treino]\n",
    "dados_teste = X[-tamanho_validacao:]\n",
    "marcacoes_teste = Y[-tamanho_validacao:]"
   ]
  },
  {
   "cell_type": "code",
   "execution_count": 42,
   "metadata": {},
   "outputs": [],
   "source": [
    "def fit_and_predict(nome, modelo, treino_dados, treino_marcacoes,dados_teste,marcacoes_teste):\n",
    "    k = 10\n",
    "    scores = cross_val_score(modelo,treino_dados,treino_marcacoes,cv = k)\n",
    "    taxa_de_acerto = np.mean(scores)\n",
    "    \n",
    "    modelo.fit(treino_dados, treino_marcacoes)\n",
    "    previsoes = modelo.predict(dados_teste)\n",
    "    \n",
    "    accuracyScore = accuracy_score(marcacoes_teste, previsoes)\n",
    "    precisionScore = average_precision_score(marcacoes_teste, scores)\n",
    "    recallScoreWeighted = recall_score(marcacoes_teste, previsoes, average='weighted')\n",
    "    recallScoreMacro = recall_score(marcacoes_teste, previsoes, average='macro')\n",
    "    recallScoreMicro = recall_score(marcacoes_teste, previsoes, average='micro')\n",
    "    meanSquaredError = mean_squared_error(marcacoes_teste, previsoes) \n",
    "    confunsionMatrix = confusion_matrix(marcacoes_teste, previsoes)\n",
    "    \n",
    "    print(confunsionMatrix)\n",
    "    print('Acerto %s: %.2f' % (nome, (taxa_de_acerto * 100)))\n",
    "    print('Acuracia %s: %.2f' % (nome, (accuracyScore * 100)))\n",
    "    print('Precisão %s: %.2f' % (nome, (precisionScore * 100)))\n",
    "    print('Recall (weighted)  %s: %.2f' % (nome, (recallScoreWeighted * 100)))\n",
    "    print('Recall (macro)  %s: %.2f' % (nome, (recallScoreMacro * 100)))\n",
    "    print('Recall (micro)  %s: %.2f' % (nome, (recallScoreMicro * 100)))\n",
    "    print('Mean Square Error  %s: %.2f' % (nome, (meanSquaredError * 100)))"
   ]
  },
  {
   "cell_type": "code",
   "execution_count": 43,
   "metadata": {},
   "outputs": [
    {
     "name": "stdout",
     "output_type": "stream",
     "text": [
      "[[0 1]\n",
      " [0 9]]\n",
      "Acerto OneVsRest: 87.86\n",
      "Acuracia OneVsRest: 90.00\n",
      "Precisão OneVsRest: 87.93\n",
      "Recall (weighted)  OneVsRest: 90.00\n",
      "Recall (macro)  OneVsRest: 50.00\n",
      "Recall (micro)  OneVsRest: 90.00\n",
      "Mean Square Error  OneVsRest: 10.00\n"
     ]
    }
   ],
   "source": [
    "from sklearn.multiclass import OneVsRestClassifier\n",
    "from sklearn.svm import LinearSVC\n",
    "modeloOneVsRest = OneVsRestClassifier(LinearSVC(random_state = 0))\n",
    "resultadoOneVsRest = fit_and_predict(\"OneVsRest\", modeloOneVsRest,treino_dados, treino_marcacoes,dados_teste,marcacoes_teste)"
   ]
  },
  {
   "cell_type": "code",
   "execution_count": 44,
   "metadata": {},
   "outputs": [
    {
     "name": "stdout",
     "output_type": "stream",
     "text": [
      "[[0 1]\n",
      " [0 9]]\n",
      "Acerto OneVsOne: 87.86\n",
      "Acuracia OneVsOne: 90.00\n",
      "Precisão OneVsOne: 87.93\n",
      "Recall (weighted)  OneVsOne: 90.00\n",
      "Recall (macro)  OneVsOne: 50.00\n",
      "Recall (micro)  OneVsOne: 90.00\n",
      "Mean Square Error  OneVsOne: 10.00\n"
     ]
    }
   ],
   "source": [
    "from sklearn.multiclass import OneVsOneClassifier\n",
    "modeloOneVsOne = OneVsOneClassifier(LinearSVC(random_state = 0))\n",
    "resultadoOneVsOne = fit_and_predict(\"OneVsOne\", modeloOneVsOne,treino_dados, treino_marcacoes,dados_teste,marcacoes_teste)"
   ]
  },
  {
   "cell_type": "code",
   "execution_count": 45,
   "metadata": {},
   "outputs": [
    {
     "name": "stdout",
     "output_type": "stream",
     "text": [
      "[[0 1]\n",
      " [2 7]]\n",
      "Acerto DecisionTree: 75.61\n",
      "Acuracia DecisionTree: 70.00\n",
      "Precisão DecisionTree: 85.56\n",
      "Recall (weighted)  DecisionTree: 70.00\n",
      "Recall (macro)  DecisionTree: 38.89\n",
      "Recall (micro)  DecisionTree: 70.00\n",
      "Mean Square Error  DecisionTree: 30.00\n"
     ]
    }
   ],
   "source": [
    "from sklearn.tree import DecisionTreeClassifier\n",
    "modeloDecisionTree = DecisionTreeClassifier(criterion = \"entropy\", random_state = 100)\n",
    "resultadoOneVsOne = fit_and_predict(\"DecisionTree\", modeloDecisionTree,treino_dados, treino_marcacoes,dados_teste,marcacoes_teste)"
   ]
  },
  {
   "cell_type": "code",
   "execution_count": null,
   "metadata": {},
   "outputs": [],
   "source": []
  }
 ],
 "metadata": {
  "kernelspec": {
   "display_name": "Python 3",
   "language": "python",
   "name": "python3"
  },
  "language_info": {
   "codemirror_mode": {
    "name": "ipython",
    "version": 3
   },
   "file_extension": ".py",
   "mimetype": "text/x-python",
   "name": "python",
   "nbconvert_exporter": "python",
   "pygments_lexer": "ipython3",
   "version": "3.6.4"
  }
 },
 "nbformat": 4,
 "nbformat_minor": 2
}
